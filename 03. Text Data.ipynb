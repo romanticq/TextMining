{
 "cells": [
  {
   "cell_type": "markdown",
   "metadata": {},
   "source": [
    "# 3. 텍스트 데이터"
   ]
  },
  {
   "cell_type": "markdown",
   "metadata": {},
   "source": [
    "## 3.1 정규 표현식"
   ]
  },
  {
   "cell_type": "markdown",
   "metadata": {},
   "source": [
    "\n",
    "|기호|<center>의미</center>|\n",
    "|:---:|:---|\n",
    "|`*`|바로 앞에 있는 문자, 하위 표현식이 0번 이상 반복됨.|\n",
    "|`+`|바로 앞에 있는 문자, 하위 표현식이 1번 이상 반복됨.|\n",
    "|`[]`|대괄호 안에 있는 문자 중 하나가 나타남.|\n",
    "|`()`|괄호 안의 정규식을 하위 표현식 그룹으로 만듦. <br>정규 표현식을 평가할 때는 하위 표현식이 가장 먼저 평가됨.|\n",
    "|`.`|어떠한 형태든 문자 1자를 나타냄.|\n",
    "|`^`|바로 뒤에 있는 문자, 하위 표현식이 문자열 맨 앞에 나타남.|\n",
    "|`$`|바로 뒤에 있는 문자, 하위 표현식이 문자열 맨 뒤에 나타남.|\n",
    "|`{m}`|바로 뒤에 있는 문자, 하위 표현식이 m회 반복됨.|\n",
    "|`{m,n}`|바로 뒤에 있는 문자, 하위 표현식이 m번 이상, n번 이하 나타남.|\n",
    "|`\\|` | 분리된 문자, 문자열, 하위 표현식 중 하나가 나타남(or와 같은 용법).|\n",
    "|[^]|대괄호 안에 있는 문자를 제외한 문자가 나타남.|\n"
   ]
  },
  {
   "cell_type": "markdown",
   "metadata": {},
   "source": [
    "\n",
    "```\n",
    "정규표현식은 re 라이브러리를 통해 구현할 수 있다.  \n",
    "compile : 정규표현식 패턴 지정함수  \n",
    "findall : 정규표현식에 부합하는 문자열을 찾는 함수\n",
    "```\n",
    "\n",
    "\n",
    "\n",
    "[예제1] a가 1회이상, b가 0회 이상 나오는 문자열을 찾아라."
   ]
  },
  {
   "cell_type": "code",
   "execution_count": 28,
   "metadata": {},
   "outputs": [
    {
     "data": {
      "text/plain": [
       "['aaaa', 'aabbb']"
      ]
     },
     "execution_count": 28,
     "metadata": {},
     "output_type": "execute_result"
    }
   ],
   "source": [
    "import re\n",
    "r = re.compile(\"a+b*\")\n",
    "r.findall(\"aaaa, cc, bbbb, aabbb\")"
   ]
  },
  {
   "cell_type": "markdown",
   "metadata": {},
   "source": [
    "***\n",
    "[예제2] 대문자로 구성된 문자열을 찾아라."
   ]
  },
  {
   "cell_type": "code",
   "execution_count": 29,
   "metadata": {},
   "outputs": [
    {
     "data": {
      "text/plain": [
       "['HOME', 'CAT', 'D', 'THR']"
      ]
     },
     "execution_count": 29,
     "metadata": {},
     "output_type": "execute_result"
    }
   ],
   "source": [
    "r = re.compile(\"[A-Z]+\")\n",
    "r.findall(\"HOME, home, CAT, Dog, THRee\")"
   ]
  },
  {
   "cell_type": "markdown",
   "metadata": {},
   "source": [
    "***\n",
    "[예제3] a로 시작하는 3글자짜리 문자열을 찾아라."
   ]
  },
  {
   "cell_type": "code",
   "execution_count": 30,
   "metadata": {},
   "outputs": [
    {
     "data": {
      "text/plain": [
       "['aDc']"
      ]
     },
     "execution_count": 30,
     "metadata": {},
     "output_type": "execute_result"
    }
   ],
   "source": [
    "r = re.compile(\"^a..\") \n",
    "r.findall(\"aDc, cba, acD, abC\")"
   ]
  },
  {
   "cell_type": "markdown",
   "metadata": {},
   "source": [
    "***\n",
    "[예제4] a가 2회이상 3회이하, b가 2회이상 3회이하인 문자열을 찾아라"
   ]
  },
  {
   "cell_type": "code",
   "execution_count": 31,
   "metadata": {},
   "outputs": [
    {
     "data": {
      "text/plain": [
       "['aabb', 'aaabb', 'aaabbb']"
      ]
     },
     "execution_count": 31,
     "metadata": {},
     "output_type": "execute_result"
    }
   ],
   "source": [
    "r = re.compile(\"a{2,3}b{2,3}\")\n",
    "r.findall(\"aabb, aaabb, ab, aab, aaaaaaaaaaabbbbbbbbbbbbbbb\")"
   ]
  },
  {
   "cell_type": "markdown",
   "metadata": {},
   "source": [
    "***\n",
    "`search` : compile에 지정된 정규표현식 패턴과 일치하는 문자열의 위치를 반환  \n",
    "`group` : 패턴과 일치하는 문자들을 그룹핑하여 추출  \n",
    "***\n",
    "[예제5] 다음 주소에서 `http:`를 추출하여라."
   ]
  },
  {
   "cell_type": "code",
   "execution_count": 32,
   "metadata": {},
   "outputs": [
    {
     "data": {
      "text/plain": [
       "'http:'"
      ]
     },
     "execution_count": 32,
     "metadata": {},
     "output_type": "execute_result"
    }
   ],
   "source": [
    "p = re.compile(\".+:\")\n",
    "m = p.search(\"http://google.com\")\n",
    "m.group()"
   ]
  },
  {
   "cell_type": "markdown",
   "metadata": {},
   "source": [
    "***\n",
    "`sub(1st, 2nd)` : 정규표현식과 일치하는 부분을 다른 문자로 바꿈.  \n",
    "`1st` : '무엇으로(to)' 바꿀것인가  \n",
    "`2nd` : '무엇을(from)' 바꿀것인가  \n",
    "정규표현식과 일치하는 부분을 삭제하고 싶으면 `1st`에 `\"\"` 입력.\n",
    "***\n",
    "[예제6]"
   ]
  },
  {
   "cell_type": "code",
   "execution_count": 33,
   "metadata": {},
   "outputs": [
    {
     "data": {
      "text/plain": [
       "'그의 물건에 손대지 마시오.'"
      ]
     },
     "execution_count": 33,
     "metadata": {},
     "output_type": "execute_result"
    }
   ],
   "source": [
    "p = re.compile(\"(내|나의|내꺼)\")\n",
    "p.sub(\"그의\", \"나의 물건에 손대지 마시오.\")"
   ]
  },
  {
   "cell_type": "code",
   "execution_count": null,
   "metadata": {},
   "outputs": [],
   "source": []
  }
 ],
 "metadata": {
  "kernelspec": {
   "display_name": "Python 3",
   "language": "python",
   "name": "python3"
  },
  "language_info": {
   "codemirror_mode": {
    "name": "ipython",
    "version": 3
   },
   "file_extension": ".py",
   "mimetype": "text/x-python",
   "name": "python",
   "nbconvert_exporter": "python",
   "pygments_lexer": "ipython3",
   "version": "3.7.6"
  },
  "latex_envs": {
   "LaTeX_envs_menu_present": true,
   "autoclose": false,
   "autocomplete": true,
   "bibliofile": "biblio.bib",
   "cite_by": "apalike",
   "current_citInitial": 1,
   "eqLabelWithNumbers": true,
   "eqNumInitial": 1,
   "hotkeys": {
    "equation": "Ctrl-E",
    "itemize": "Ctrl-I"
   },
   "labels_anchors": false,
   "latex_user_defs": false,
   "report_style_numbering": false,
   "user_envs_cfg": false
  },
  "toc": {
   "base_numbering": 1,
   "nav_menu": {},
   "number_sections": false,
   "sideBar": true,
   "skip_h1_title": false,
   "title_cell": "Table of Contents",
   "title_sidebar": "Contents",
   "toc_cell": false,
   "toc_position": {
    "height": "calc(100% - 180px)",
    "left": "10px",
    "top": "150px",
    "width": "265.795px"
   },
   "toc_section_display": true,
   "toc_window_display": true
  },
  "varInspector": {
   "cols": {
    "lenName": 16,
    "lenType": 16,
    "lenVar": 40
   },
   "kernels_config": {
    "python": {
     "delete_cmd_postfix": "",
     "delete_cmd_prefix": "del ",
     "library": "var_list.py",
     "varRefreshCmd": "print(var_dic_list())"
    },
    "r": {
     "delete_cmd_postfix": ") ",
     "delete_cmd_prefix": "rm(",
     "library": "var_list.r",
     "varRefreshCmd": "cat(var_dic_list()) "
    }
   },
   "types_to_exclude": [
    "module",
    "function",
    "builtin_function_or_method",
    "instance",
    "_Feature"
   ],
   "window_display": false
  }
 },
 "nbformat": 4,
 "nbformat_minor": 4
}
